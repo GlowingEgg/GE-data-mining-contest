{
 "cells": [
  {
   "cell_type": "markdown",
   "metadata": {},
   "source": [
    "# Predicting a country's power consumption\n",
    "\n",
    "The provided training data contains information about some economic factors, and the total power consumption of 14 different countries. The goal is to learn from this data set the relationship between those economic factors and their power consumption in kwh per capita, and then predict the power consumption of two new countries, based on the other data.\n",
    "Since the data varies so much between countries, it makes since to not only do a simple linear regression but also determine which country these new countries most resemble.\n",
    "Therefore this program will train 14 different regression models; one for each country. Then, upon receiving the data for these new countries, will perform a multi-class classification to determine which country these countries most resemble economically. The classification will output a number 0-13, signifying the name of the country the new country most resembles. Then, a linear regression will be run on the new country, using the model from the country the classification outputs.\n",
    "For both the classification, a Support Vector Machine will be used.\n",
    "For the regression, a multiple linear regression model is used."
   ]
  },
  {
   "cell_type": "code",
   "execution_count": 27,
   "metadata": {
    "collapsed": false
   },
   "outputs": [],
   "source": [
    "%matplotlib inline\n",
    "import numpy as np\n",
    "import pandas as pd\n",
    "import matplotlib\n",
    "import matplotlib.pyplot as plt\n",
    "import sklearn\n",
    "from sklearn import svm\n",
    "from sklearn import linear_model"
   ]
  },
  {
   "cell_type": "markdown",
   "metadata": {},
   "source": [
    "# REGRESSORS\n",
    "This section will import the data from each country seperately and store them in pandas' dataframes for later use in training the regression models."
   ]
  },
  {
   "cell_type": "code",
   "execution_count": 28,
   "metadata": {
    "collapsed": false
   },
   "outputs": [],
   "source": [
    "excelAustralia = pd.ExcelFile(\"/Users/Qonzor/PowerConsumption/regression/Australia.xls\")\n",
    "australia = excelAustralia.parse(\"tab_GSU\")\n",
    "excelAustria = pd.ExcelFile(\"/Users/Qonzor/PowerConsumption/regression/Austria.xls\")\n",
    "austria = excelAustria.parse(\"tab_GSU\")\n",
    "excelBelgium = pd.ExcelFile(\"/Users/Qonzor/PowerConsumption/regression/Belgium.xls\")\n",
    "belgium = excelBelgium.parse(\"tab_GSU\")\n",
    "excelCanada = pd.ExcelFile(\"/Users/Qonzor/PowerConsumption/regression/Canada.xls\")\n",
    "canada = excelCanada.parse(\"tab_GSU\")\n",
    "excelFinland = pd.ExcelFile(\"/Users/Qonzor/PowerConsumption/regression/Finland.xls\")\n",
    "finland = excelFinland.parse(\"tab_GSU\")\n",
    "excelGermany = pd.ExcelFile(\"/Users/Qonzor/PowerConsumption/regression/Germany.xls\")\n",
    "germany = excelGermany.parse(\"tab_GSU\")\n",
    "excelIceland = pd.ExcelFile(\"/Users/Qonzor/PowerConsumption/regression/Iceland.xls\")\n",
    "iceland = excelIceland.parse(\"tab_GSU\")\n",
    "excelIreland = pd.ExcelFile(\"/Users/Qonzor/PowerConsumption/regression/Ireland.xls\")\n",
    "ireland = excelIreland.parse(\"tab_GSU\")\n",
    "excelLuxembourg = pd.ExcelFile(\"/Users/Qonzor/PowerConsumption/regression/Luxembourg.xls\")\n",
    "luxembourg = excelLuxembourg.parse(\"tab_GSU\")\n",
    "excelNetherlands = pd.ExcelFile(\"/Users/Qonzor/PowerConsumption/regression/Netherlands.xls\")\n",
    "netherlands = excelNetherlands.parse(\"tab_GSU\")\n",
    "excelNorway = pd.ExcelFile(\"/Users/Qonzor/PowerConsumption/regression/Norway.xls\")\n",
    "norway = excelNorway.parse(\"tab_GSU\")\n",
    "excelSweden = pd.ExcelFile(\"/Users/Qonzor/PowerConsumption/regression/Sweden.xls\")\n",
    "sweden = excelSweden.parse(\"tab_GSU\")\n",
    "excelSwitzerland = pd.ExcelFile(\"/Users/Qonzor/PowerConsumption/regression/Switzerland.xls\")\n",
    "switzerland = excelSwitzerland.parse(\"tab_GSU\")\n",
    "excelUS = pd.ExcelFile(\"/Users/Qonzor/PowerConsumption/regression/US.xls\")\n",
    "us = excelUS.parse(\"tab_GSU\")"
   ]
  },
  {
   "cell_type": "markdown",
   "metadata": {
    "collapsed": true
   },
   "source": [
    "# Classifiers\n",
    "This section imports the collective data that will be used for the classification. The names of the countries have been numericized so that the SVM will run properly. Three SVMs are created with three different kernels, since I don't know the structure of the data. All three can be run and tested for accuracy, but for now I will go with the RBF. It's important to go in to the fitting process understanding that if a linear kernel is used, and the data is not very linear, the SVM will run on and on with no helpful feedback."
   ]
  },
  {
   "cell_type": "code",
   "execution_count": 29,
   "metadata": {
    "collapsed": false
   },
   "outputs": [],
   "source": [
    "excelClassifier = pd.ExcelFile(\"/Users/Qonzor/PowerConsumption/ClassificationOrig.xls\")\n",
    "classifierData = excelClassifier.parse(\"tab_GSU\")\n",
    "excelClassifierTesting = pd.ExcelFile(\"/Users/Qonzor/PowerConsumption/ClassificationTesting.xls\")\n",
    "classifierTestingData = excelClassifierTesting.parse(\"tab_GSU\")\n",
    "classifierOneX = np.array(classifierData.drop('Country', axis = 1)).astype(float)\n",
    "classifierOneY = np.array(classifierData['Country']).astype(int)\n",
    "classifierTwoX = np.array(classifierTestingData.drop('Country', axis = 1)).astype(float)\n",
    "classifierTwoY = np.array(classifierTestingData['Country']).astype(float)\n",
    "linear_classifierOne = svm.SVC(kernel = 'linear')\n",
    "rbf_classifierOne = svm.SVC(kernel = 'rbf')\n",
    "poly_classifierOne = svm.SVC(kernel = 'poly')"
   ]
  },
  {
   "cell_type": "code",
   "execution_count": 30,
   "metadata": {
    "collapsed": false
   },
   "outputs": [
    {
     "data": {
      "text/plain": [
       "1.0"
      ]
     },
     "execution_count": 30,
     "metadata": {},
     "output_type": "execute_result"
    }
   ],
   "source": [
    "rbf_classifierOne.fit(classifierOneX, classifierOneY)\n",
    "rbf_classifierOne.score(classifierOneX, classifierOneY, sample_weight = None)"
   ]
  },
  {
   "cell_type": "markdown",
   "metadata": {},
   "source": [
    "# Prediction\n",
    "\n",
    "The classification algorithm will be run against the first country. It will spit out a number 1-14. The regression will then be fit to the country that number specifies. Then the new country will be run through the regression model. It should output a value in kwh for each year."
   ]
  },
  {
   "cell_type": "code",
   "execution_count": 31,
   "metadata": {
    "collapsed": false
   },
   "outputs": [
    {
     "name": "stdout",
     "output_type": "stream",
     "text": [
      "[3 3 3 3 3 3 3 3 3 3 3 3 3]\n"
     ]
    }
   ],
   "source": [
    "#This bit of mess is to test the classifier on Belgium to make sure it classifies properly\n",
    "excel = pd.ExcelFile(\"/Users/Qonzor/PowerConsumption/regression/BelgiumTest.xls\")\n",
    "deleteThis = excel.parse(\"tab_GSU\")\n",
    "testBelgium = np.array(deleteThis).astype(float)\n",
    "guessBelgium = rbf_classifierOne.predict(testBelgium)\n",
    "print guessBelgium"
   ]
  },
  {
   "cell_type": "code",
   "execution_count": 32,
   "metadata": {
    "collapsed": false
   },
   "outputs": [
    {
     "name": "stdout",
     "output_type": "stream",
     "text": [
      "[14 14 14 14 14 14 14 14 14 14 14 14 14]\n"
     ]
    }
   ],
   "source": [
    "#It correctly identified Belgium so we can move on to the new country's data\n",
    "excelTest = pd.ExcelFile(\"/Users/Qonzor/PowerConsumption/SubmissionFile.xlsx\")\n",
    "test = excelTest.parse(\"SubmittalFile\")\n",
    "testA = np.array(test).astype(float)\n",
    "guess = rbf_classifierOne.predict(testA)\n",
    "print guess"
   ]
  },
  {
   "cell_type": "markdown",
   "metadata": {},
   "source": [
    "The classifier seems to think the new country most resembles the United States. Run the data through the U.S. regressor."
   ]
  },
  {
   "cell_type": "code",
   "execution_count": 33,
   "metadata": {
    "collapsed": false
   },
   "outputs": [
    {
     "name": "stdout",
     "output_type": "stream",
     "text": [
      "0.734410447778\n"
     ]
    }
   ],
   "source": [
    "X= np.array(us.drop('Electric power consumption (kWh per capita)', axis = 1)).astype(float)\n",
    "y = np.array(us['Electric power consumption (kWh per capita)']).astype(float)\n",
    "linReg = linear_model.LinearRegression(fit_intercept = True)\n",
    "linReg.fit(X, y)\n",
    "print linReg.score(X, y)"
   ]
  },
  {
   "cell_type": "code",
   "execution_count": 34,
   "metadata": {
    "collapsed": false
   },
   "outputs": [
    {
     "data": {
      "text/plain": [
       "array([  6112.3247894 ,   5728.23164361,   5830.5953575 ,   8524.9133655 ,\n",
       "        10142.501412  ,  10487.90667488,  10955.57294795,  12907.26147713,\n",
       "        14659.17954533,  12118.49712168,  11745.78261714,  12604.36836457,\n",
       "        10297.81502701])"
      ]
     },
     "execution_count": 34,
     "metadata": {},
     "output_type": "execute_result"
    }
   ],
   "source": [
    "#The score is good enough for our purpose so we'll go ahead and predict for the new country\n",
    "linReg.predict(testA)"
   ]
  }
 ],
 "metadata": {
  "kernelspec": {
   "display_name": "Python 2",
   "language": "python",
   "name": "python2"
  },
  "language_info": {
   "codemirror_mode": {
    "name": "ipython",
    "version": 2
   },
   "file_extension": ".py",
   "mimetype": "text/x-python",
   "name": "python",
   "nbconvert_exporter": "python",
   "pygments_lexer": "ipython2",
   "version": "2.7.6"
  }
 },
 "nbformat": 4,
 "nbformat_minor": 0
}
